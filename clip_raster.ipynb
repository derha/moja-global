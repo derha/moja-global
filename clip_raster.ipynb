{
 "cells": [
  {
   "cell_type": "markdown",
   "id": "99c2bc93",
   "metadata": {},
   "source": [
    "# Issue"
   ]
  },
  {
   "cell_type": "code",
   "execution_count": 1,
   "id": "dc3ec89b",
   "metadata": {},
   "outputs": [],
   "source": [
    "import rasterio as rst\n",
    "from rasterio.plot import show\n",
    "import matplotlib.pyplot as plt\n",
    "import numpy as np"
   ]
  },
  {
   "cell_type": "code",
   "execution_count": 2,
   "id": "1bbc5d1e",
   "metadata": {},
   "outputs": [
    {
     "data": {
      "image/png": "[encoded data removed]",
      "text/plain": [
       "<Figure size 432x288 with 1 Axes>"
      ]
     },
     "metadata": {
      "needs_background": "light"
     },
     "output_type": "display_data"
    },
    {
     "data": {
      "text/plain": [
       "<AxesSubplot:>"
      ]
     },
     "execution_count": 2,
     "metadata": {},
     "output_type": "execute_result"
    }
   ],
   "source": [
    "fp = r'Classifier1_moja.tiff'\n",
    "img = rst.open(fp)\n",
    "show(img)"
   ]
  },
  {
   "cell_type": "code",
   "execution_count": 3,
   "id": "e72f7f47",
   "metadata": {},
   "outputs": [
    {
     "data": {
      "text/plain": [
       "BoundingBox(left=-106.0, bottom=54.0, right=-105.0, top=55.0)"
      ]
     },
     "execution_count": 3,
     "metadata": {},
     "output_type": "execute_result"
    }
   ],
   "source": [
    "img.bounds"
   ]
  },
  {
   "cell_type": "code",
   "execution_count": 4,
   "id": "aebdf849",
   "metadata": {},
   "outputs": [
    {
     "data": {
      "text/plain": [
       "(1,)"
      ]
     },
     "execution_count": 4,
     "metadata": {},
     "output_type": "execute_result"
    }
   ],
   "source": [
    "img.indexes"
   ]
  },
  {
   "cell_type": "markdown",
   "id": "838f8017",
   "metadata": {},
   "source": [
    "Issue :   A lot of padding around the area of interest.\n",
    "\n",
    "Task  :   Clip a raster to the area of interest."
   ]
  },
  {
   "cell_type": "markdown",
   "id": "5d37481b",
   "metadata": {},
   "source": [
    "# Finding geometry for a mask"
   ]
  },
  {
   "cell_type": "markdown",
   "id": "877debc7",
   "metadata": {},
   "source": [
    "rasterio.features.dataset_features documentation:\n",
    "https://rasterio.readthedocs.io/en/latest/api/rasterio.features.html#rasterio.features.dataset_features"
   ]
  },
  {
   "cell_type": "code",
   "execution_count": 5,
   "id": "694f2a51",
   "metadata": {},
   "outputs": [],
   "source": [
    "from rasterio.features import dataset_features"
   ]
  },
  {
   "cell_type": "code",
   "execution_count": 6,
   "id": "9b50befc",
   "metadata": {},
   "outputs": [],
   "source": [
    "# dataset_features yields GeoJSON-like Feature dictionaries for shapes found in the given band\n",
    "geom_gen = dataset_features(img, bidx=1)"
   ]
  },
  {
   "cell_type": "code",
   "execution_count": 7,
   "id": "16f8cc89",
   "metadata": {},
   "outputs": [],
   "source": [
    "# get bounding boxes from all shapes\n",
    "bboxes = [geom['bbox'] for geom in geom_gen]"
   ]
  },
  {
   "cell_type": "code",
   "execution_count": 8,
   "id": "62496443",
   "metadata": {},
   "outputs": [
    {
     "data": {
      "text/plain": [
       "[[-105.84875, 54.48625, -105.8485, 54.4865],\n",
       " [-105.84725, 54.47775, -105.83225, 54.48775],\n",
       " [-105.873, 54.47575, -105.84875, 54.48625],\n",
       " [-105.85275, 54.47475, -105.84275, 54.48675],\n",
       " [-105.864, 54.47375, -105.84925, 54.482],\n",
       " [-105.84725, 54.4745, -105.83175, 54.4825],\n",
       " [-105.871, 54.471, -105.85875, 54.47925],\n",
       " [-105.84375, 54.469, -105.82925, 54.48025],\n",
       " [-105.86975, 54.46675, -105.8535, 54.4755],\n",
       " [-105.861, 54.4675, -105.84025, 54.476],\n",
       " [-105.86125, 54.46725, -105.861, 54.4675]]"
      ]
     },
     "execution_count": 8,
     "metadata": {},
     "output_type": "execute_result"
    }
   ],
   "source": [
    "bboxes"
   ]
  },
  {
   "cell_type": "code",
   "execution_count": 9,
   "id": "5fcdb1e1",
   "metadata": {},
   "outputs": [],
   "source": [
    "# get extremums from the bounding boxes\n",
    "left   = min([bbox[0] for bbox in bboxes])\n",
    "bottom = min([bbox[1] for bbox in bboxes])\n",
    "right  = max([bbox[2] for bbox in bboxes])\n",
    "top    = max([bbox[3] for bbox in bboxes])"
   ]
  },
  {
   "cell_type": "code",
   "execution_count": 10,
   "id": "3acc6b11",
   "metadata": {},
   "outputs": [
    {
     "data": {
      "text/plain": [
       "'POLYGON ((-105.82925 54.46675, -105.82925 54.48775, -105.873 54.48775, -105.873 54.46675, -105.82925 54.46675))'"
      ]
     },
     "execution_count": 10,
     "metadata": {},
     "output_type": "execute_result"
    }
   ],
   "source": [
    "from shapely.geometry import box\n",
    "\n",
    "# create a POLYGON geometry for the mask\n",
    "geom = box(left, bottom, right, top)\n",
    "geom.wkt"
   ]
  },
  {
   "cell_type": "markdown",
   "id": "f2952f0e",
   "metadata": {},
   "source": [
    "# Masking"
   ]
  },
  {
   "cell_type": "code",
   "execution_count": 11,
   "id": "80102f8a",
   "metadata": {},
   "outputs": [],
   "source": [
    "from rasterio.mask import mask"
   ]
  },
  {
   "cell_type": "code",
   "execution_count": 12,
   "id": "b5c3fad7",
   "metadata": {},
   "outputs": [],
   "source": [
    "# data for a clipped image\n",
    "out_image, out_transform = mask(img, [geom], crop=True, pad=True)\n",
    "out_meta = img.meta"
   ]
  },
  {
   "cell_type": "code",
   "execution_count": 13,
   "id": "d2b1ed20",
   "metadata": {},
   "outputs": [],
   "source": [
    "# save clipped image in a new file\n",
    "out_meta.update({\"driver\": \"GTiff\",\n",
    "                 \"height\": out_image.shape[1],\n",
    "                 \"width\": out_image.shape[2],\n",
    "                 \"transform\": out_transform})\n",
    "\n",
    "with rst.open(r'Classifier1_moja_masked.tiff', 'w', **out_meta) as dest:\n",
    "    dest.write(out_image)"
   ]
  },
  {
   "cell_type": "markdown",
   "id": "9e962816",
   "metadata": {},
   "source": [
    "# Check"
   ]
  },
  {
   "cell_type": "code",
   "execution_count": 14,
   "id": "677d8cf7",
   "metadata": {},
   "outputs": [
    {
     "data": {
      "image/png": "[encoded data removed]",
      "text/plain": [
       "<Figure size 432x288 with 1 Axes>"
      ]
     },
     "metadata": {
      "needs_background": "light"
     },
     "output_type": "display_data"
    },
    {
     "data": {
      "text/plain": [
       "<AxesSubplot:>"
      ]
     },
     "execution_count": 14,
     "metadata": {},
     "output_type": "execute_result"
    }
   ],
   "source": [
    "fp_result = r'Classifier1_moja_masked.tiff'\n",
    "result = rst.open(fp_result)\n",
    "show(result)"
   ]
  }
 ],
 "metadata": {
  "kernelspec": {
   "display_name": "Python 3 (ipykernel)",
   "language": "python",
   "name": "python3"
  },
  "language_info": {
   "codemirror_mode": {
    "name": "ipython",
    "version": 3
   },
   "file_extension": ".py",
   "mimetype": "text/x-python",
   "name": "python",
   "nbconvert_exporter": "python",
   "pygments_lexer": "ipython3",
   "version": "3.10.4"
  }
 },
 "nbformat": 4,
 "nbformat_minor": 5
}

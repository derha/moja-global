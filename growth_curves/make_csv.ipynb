{
 "cells": [
  {
   "cell_type": "markdown",
   "id": "147c59a9",
   "metadata": {},
   "source": [
    "Parameters are taken from growth_curves.ipynb for Norway Spruce"
   ]
  },
  {
   "cell_type": "code",
   "execution_count": 1,
   "id": "74186a45",
   "metadata": {},
   "outputs": [],
   "source": [
    "import numpy as np\n",
    "import csv"
   ]
  },
  {
   "cell_type": "code",
   "execution_count": 2,
   "id": "231322c7",
   "metadata": {},
   "outputs": [],
   "source": [
    "def growth_curveNS(age):\n",
    "    return 2.61126612e+02 * (1 - np.exp(-1.74074170e-02 * age))**1.78619818e+00"
   ]
  },
  {
   "cell_type": "code",
   "execution_count": 3,
   "id": "8bf57e39",
   "metadata": {},
   "outputs": [],
   "source": [
    "agb_values = [growth_curveNS(age) for age in range(201)]\n",
    "header     = ['LifeZone', 'AIDBSPP'] + list(range(201))\n",
    "life_zones = ['Boreal wet forest', 'Cool temperate moist forest', 'Cool temperate steppe', \n",
    "              'Cool temperate wet forest', 'Polar rain tundra']\n",
    "species    = 'Red alder'"
   ]
  },
  {
   "cell_type": "code",
   "execution_count": 4,
   "id": "1a530653",
   "metadata": {},
   "outputs": [],
   "source": [
    "with open('Growth_Curves.csv', 'w') as gc_file:\n",
    "    gc_writer = csv.writer(gc_file, delimiter=',', quotechar='\"', quoting=csv.QUOTE_MINIMAL)\n",
    "    \n",
    "    gc_writer.writerow(header)\n",
    "    for life_zone in life_zones:\n",
    "        gc_writer.writerow([life_zone] + [species] + agb_values)"
   ]
  }
 ],
 "metadata": {
  "kernelspec": {
   "display_name": "Python 3 (ipykernel)",
   "language": "python",
   "name": "python3"
  },
  "language_info": {
   "codemirror_mode": {
    "name": "ipython",
    "version": 3
   },
   "file_extension": ".py",
   "mimetype": "text/x-python",
   "name": "python",
   "nbconvert_exporter": "python",
   "pygments_lexer": "ipython3",
   "version": "3.9.12"
  }
 },
 "nbformat": 4,
 "nbformat_minor": 5
}

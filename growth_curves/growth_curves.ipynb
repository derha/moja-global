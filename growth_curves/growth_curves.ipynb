{
 "cells": [
  {
   "cell_type": "code",
   "execution_count": 1,
   "id": "d20a40b7",
   "metadata": {},
   "outputs": [],
   "source": [
    "import matplotlib.pyplot as plt\n",
    "import numpy as np\n",
    "from scipy.optimize import curve_fit"
   ]
  },
  {
   "cell_type": "code",
   "execution_count": 2,
   "id": "4037ab40",
   "metadata": {},
   "outputs": [],
   "source": [
    "def growth_curve(age, A, k, p):\n",
    "    return A * (1 - np.exp(-k * age))**p"
   ]
  },
  {
   "cell_type": "code",
   "execution_count": 3,
   "id": "2d74be2c",
   "metadata": {},
   "outputs": [],
   "source": [
    "# age\n",
    "x_data = np.array([14, 18, 28, 43, 43, 43, 99, 99, 99, 105, 114, 119])\n",
    "# AGB\n",
    "y_data = np.array([20.99, 31.95, 20.73, 111.71, 112.91, 45.71, 296.97, 104.5, 162.8, 155.73, 199.07, 224.54])"
   ]
  },
  {
   "cell_type": "code",
   "execution_count": 4,
   "id": "b1fb0e4c",
   "metadata": {},
   "outputs": [
    {
     "name": "stderr",
     "output_type": "stream",
     "text": [
      "C:\\Users\\mi92\\AppData\\Local\\Temp\\ipykernel_21144\\596601006.py:2: RuntimeWarning: overflow encountered in exp\n",
      "  return A * (1 - np.exp(-k * age))**p\n",
      "C:\\Users\\mi92\\AppData\\Local\\Temp\\ipykernel_21144\\596601006.py:2: RuntimeWarning: invalid value encountered in power\n",
      "  return A * (1 - np.exp(-k * age))**p\n"
     ]
    },
    {
     "data": {
      "text/plain": [
       "array([2.61126612e+02, 1.74074170e-02, 1.78619818e+00])"
      ]
     },
     "execution_count": 4,
     "metadata": {},
     "output_type": "execute_result"
    }
   ],
   "source": [
    "params, _ = curve_fit(growth_curve, x_data, y_data, [100, 1, 1])\n",
    "params"
   ]
  },
  {
   "cell_type": "code",
   "execution_count": 5,
   "id": "392aa1c0",
   "metadata": {},
   "outputs": [
    {
     "data": {
      "image/png": "[encoded data removed]",
      "text/plain": [
       "<Figure size 432x288 with 1 Axes>"
      ]
     },
     "metadata": {
      "needs_background": "light"
     },
     "output_type": "display_data"
    }
   ],
   "source": [
    "plt.scatter(x_data, y_data, label='data')\n",
    "x = np.linspace(1, 120, 120)\n",
    "plt.plot(x, growth_curve(x, *params), 'r-', label='growth curve')\n",
    "\n",
    "plt.xlabel('age')\n",
    "plt.ylabel('AGB')\n",
    "plt.legend()\n",
    "plt.show()"
   ]
  }
 ],
 "metadata": {
  "kernelspec": {
   "display_name": "Python 3 (ipykernel)",
   "language": "python",
   "name": "python3"
  },
  "language_info": {
   "codemirror_mode": {
    "name": "ipython",
    "version": 3
   },
   "file_extension": ".py",
   "mimetype": "text/x-python",
   "name": "python",
   "nbconvert_exporter": "python",
   "pygments_lexer": "ipython3",
   "version": "3.9.12"
  }
 },
 "nbformat": 4,
 "nbformat_minor": 5
}
